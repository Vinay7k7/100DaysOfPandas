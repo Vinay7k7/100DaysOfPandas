{
 "cells": [
  {
   "cell_type": "markdown",
   "metadata": {},
   "source": [
    "## 🐍 This is the Python Pandas Basic to Advance Prep ! ------------------------> "
   ]
  },
  {
   "cell_type": "markdown",
   "metadata": {},
   "source": [
    "## Section ( 1 ) : - - - - { Introduction ! }"
   ]
  },
  {
   "cell_type": "code",
   "execution_count": null,
   "metadata": {},
   "outputs": [],
   "source": [
    "import pandas as pd #This is how we will add the module into the code space ! \n",
    "import numpy as np #This is how we will add the module into the code space ! \n"
   ]
  },
  {
   "cell_type": "code",
   "execution_count": null,
   "metadata": {},
   "outputs": [],
   "source": [
    "pd.__version__ # This will give out the Version of the pandas ! module \n",
    "np.__version__ # This will give out the Version of the numpy ! module "
   ]
  },
  {
   "cell_type": "markdown",
   "metadata": {},
   "source": [
    "## Section ( 2 ) : - - - - { Series At A Glance ! }"
   ]
  },
  {
   "cell_type": "code",
   "execution_count": null,
   "metadata": {},
   "outputs": [],
   "source": [
    "# Now we will work with the Series in the pandas !\n",
    "# A series is a 1D sequence of data it can of many different data types at once !\n",
    "k1 =[\"Vinay\",True,3]\n",
    "k2 = pd.Series(k1) # This is a pandas series !\n",
    "print(k2)"
   ]
  },
  {
   "cell_type": "code",
   "execution_count": null,
   "metadata": {},
   "outputs": [],
   "source": [
    "# Different ways to create Series !\n",
    "q1 = ['vinay','is','Great']\n",
    "q2 = pd.Series(q1)\n",
    "q3 = pd.Series(['Vinay','is','Great'])\n",
    "q4 = pd.Series(['Vinay','is','Great'],index = ['a','b','c'])\n",
    "# print(q2)\n",
    "# print(q3)\n",
    "# print(q4)\n",
    "\n",
    "# And also we can make the dict into a series also !\n",
    "\n",
    "w1 = {1:\"VInay\",2:\"is\",33:\"great\"} # It can be the series from the dict !\n",
    "w2 = pd.Series(w1)\n",
    "print(w2)"
   ]
  },
  {
   "cell_type": "code",
   "execution_count": null,
   "metadata": {},
   "outputs": [],
   "source": [
    "# We can change the data_type of the data in the data in the series !\n",
    "o1 = [i for i in range(12)]\n",
    "o2 = pd.Series(o1,dtype = \"float64\") # This `dtype` is a attribute that we can specify the data_type !\n",
    "print(o2)\n",
    "print(o2.dtype) # This will tell the datatype of the data series !"
   ]
  },
  {
   "cell_type": "code",
   "execution_count": null,
   "metadata": {},
   "outputs": [],
   "source": [
    "\n",
    "print(q4.index) # This is how we will get the index of any series !\n",
    "print(o2.index) # This is the default index that is assigned to the data that is without the index !\n",
    "l1 =list( pd.RangeIndex(start=2,stop=7,step=2) )\n",
    "data  = ['vinay','kumar','karivena']\n",
    "\n",
    "p1 = pd.Series(data,index = l1)\n",
    "print(p1)\n",
    "\n",
    "#       This is how we can create the user required index by plain list or we can also create that using the `pd.RangeIndex` \n",
    "# NOTE: The index has to be the same size with the no of data in the series !\n",
    "\n",
    "type(p1) # This will tell the type of the series !\n",
    "p1.size # This will tell us the size of  the series !"
   ]
  },
  {
   "cell_type": "code",
   "execution_count": null,
   "metadata": {},
   "outputs": [],
   "source": [
    "# Now we will work with the Names for columns for the series and the name for the index also !\n",
    "\n",
    "s1 = pd.Series([i for i in range(1,8)],index=[j for j in range(-8,-1)])\n",
    "print(s1)\n",
    "\n",
    "print(s1.index.name) # This for first shows as a `NONE` because we haven't given !\n",
    "\n",
    "s1.index.name = \"My Index\" # This will give the name to the index !\n",
    "\n",
    "# And same like this we will name the series as well !\n",
    "\n",
    "s1.name = \"My Series\" # My series name !\n",
    "# The reason we use this naming for the index and the column is it can be the column names when we are dealing with the DateFrames \n",
    "# Which is a 2D Structured Date ! \n",
    "print(s1)"
   ]
  },
  {
   "cell_type": "code",
   "execution_count": null,
   "metadata": {},
   "outputs": [],
   "source": [
    "# Now we will see the `head()` and `tail()`\n",
    "\n",
    "d1 = pd.Series(range(100))\n",
    "print(d1) #This will show everything !\n",
    "\n",
    "print(d1.head(12)) # This will show the first requested length length of the data \n",
    "print(d1.tail(12)) # This will show the first requested length length of the data"
   ]
  },
  {
   "cell_type": "code",
   "execution_count": null,
   "metadata": {},
   "outputs": [],
   "source": [
    "# Work with the string module \n",
    "\n",
    "import pandas as pd\n",
    "import numpy as ny\n",
    "from string import ascii_uppercase\n",
    "\n",
    "k1 = list(ascii_uppercase)\n",
    "k2 = pd.Series(k1)\n",
    "print(k1)\n",
    "k2.index.name = \"My Index\"\n",
    "k2.name = \"Alphabets_Upper !\"\n",
    "print(k2)\n",
    "\n",
    "print(k2[-7:]) # This is how we use the"
   ]
  },
  {
   "cell_type": "code",
   "execution_count": null,
   "metadata": {},
   "outputs": [],
   "source": [
    "# We can also use the to adding the prefix and suffix to the index too !\n",
    "k3 = k2.add_prefix(\"This_is_the_prefix\") # By this we can add the prefix to the index !\n",
    "k4 = k2.add_suffix(\"This_is_the_suffix\") # By this we can add the SSuffix to the index !\n",
    "print(k3)\n",
    "print(k4)"
   ]
  },
  {
   "cell_type": "code",
   "execution_count": null,
   "metadata": {},
   "outputs": [],
   "source": [
    "# How to access the elements in the Series !\n",
    "# Using the `[]`\n",
    "\n",
    "print(k2[3:13])\n",
    "\n",
    "# Using the `. DOT` process we can access the elements in the series !\n",
    "k3.dtype\n",
    "k3.size\n",
    "# k4.\"12This_is_the_suffix\" # This is not working in this version but it will work in version 1.2.1\n",
    "\n",
    "# Using the `.loc[]` process we can access the data in the series ! \n",
    "\n",
    "k2.loc[3:13]\n",
    "# Using this \".loc[]\" we can also use the boolean masking  to filter out the required data in the series !\n",
    "k2.loc[[True if i%2 == 0 else False for i in range(26)]] #This is how we will use the boolean masking\n",
    "k2.loc[[True if i in [i for i in range(15)] else False for i in range(26)]] # This how we use the list comprenction to use the boolean masking ! \n",
    "\n",
    "# Using the `.iloc[]` process we can access the data in the series !\n",
    "# This will be used by taking the positions in the data in the series !\n",
    "k2.iloc[4:12] # This is the slicing !\n",
    "k2.iloc[[3,6,7,4]] # This is the required element that we need !\n",
    "\n",
    "# This `.iloc[]` is used that we work with the 2D data like the dataframe's ! \n",
    "# And also we can take the incoming Boolean values from the function !\n",
    "def lop(x):\n",
    "    return [True if i%5 == 0 else False for i in range(x.size)]\n",
    "k2.iloc[lop] # This is hwo we will get incoming boolean input from the function !\n",
    "\n",
    "# We can also use the `.at[]` to access the data in the series !\n",
    "\n",
    "k2.at[3] # Using this we can only access the single data and we can't use the slicing also !!\n",
    "\n",
    "\n",
    "# We can use the `.get()` method  😏\n",
    "\n",
    "k3.get(\"This_is_the_prefix15\") # WE can access the data with the index of the data ! \n",
    "k3.get(15) # We can also access the data with the position !\n",
    "\n",
    "# The cool feature about the `.get()` method over `.iloc[]` and the Normal way is that if the index is not found we can provide the default value to it !\n",
    "k3.get('This_is_the_prefix151',default=\"I couldn't find the data In this Index !\") # We will get the Output as the default value which is not possible \n",
    "# With the normal method or the `.iloc[]` method ! \n"
   ]
  },
  {
   "cell_type": "markdown",
   "metadata": {},
   "source": [
    "## Section ( 3 ) : - - - - { Series Methods and Handlings !}"
   ]
  },
  {
   "cell_type": "code",
   "execution_count": null,
   "metadata": {},
   "outputs": [],
   "source": [
    "# Now we will actually work with the .csv Data !\n",
    "\n",
    "import pandas as pd\n",
    "import numpy as np\n",
    "\n",
    "pd.read_csv(r'D:\\OneDrive\\Desktop\\UDEMY\\Reso_[Pandas_Prep!]\\drinks.csv') # This is how we use to read the .csv file !\n"
   ]
  },
  {
   "cell_type": "code",
   "execution_count": null,
   "metadata": {},
   "outputs": [],
   "source": [
    "# This is how we can try to access specific columns in the .csv files !\n",
    "pd.read_csv(r'D:\\OneDrive\\Desktop\\UDEMY\\Reso_[Pandas_Prep!]\\drinks.csv',usecols=['country','beer_servings']) "
   ]
  },
  {
   "cell_type": "code",
   "execution_count": null,
   "metadata": {},
   "outputs": [],
   "source": [
    "# If you wanna make the default index as the column in the .csv file !\n",
    "\n",
    "pd.read_csv(r'D:\\OneDrive\\Desktop\\UDEMY\\Reso_[Pandas_Prep!]\\drinks.csv',index_col='country')"
   ]
  },
  {
   "cell_type": "code",
   "execution_count": null,
   "metadata": {},
   "outputs": [],
   "source": [
    "\n",
    "pd.read_csv(r'D:\\OneDrive\\Desktop\\UDEMY\\Reso_[Pandas_Prep!]\\drinks.csv',index_col='country',squeeze=True)"
   ]
  },
  {
   "cell_type": "code",
   "execution_count": null,
   "metadata": {},
   "outputs": [],
   "source": []
  },
  {
   "cell_type": "code",
   "execution_count": null,
   "metadata": {},
   "outputs": [],
   "source": [
    "\n",
    "\n"
   ]
  },
  {
   "cell_type": "markdown",
   "metadata": {},
   "source": [
    "# ----------------------------- This is the Leetcode Rough Work ! ----------------------------"
   ]
  },
  {
   "cell_type": "code",
   "execution_count": null,
   "metadata": {},
   "outputs": [],
   "source": [
    "from typing import List  # Import List for type annotations\n",
    "\n",
    "class Solution:\n",
    "    def removeElement(self, nums: List[int], val: int) -> int:\n",
    "        fast = slow = 0\n",
    "        while fast < len(nums):\n",
    "            if nums[fast] != val:\n",
    "                print(nums[fast])\n",
    "                nums[slow] = nums[fast]\n",
    "                # print(nums[slow])\n",
    "                slow += 1\n",
    "\n",
    "            fast += 1\n",
    "        # print(slow)  # Optional: for debugging purposes\n",
    "        return slow\n",
    "\n",
    "# Create an instance of Solution\n",
    "solution = Solution()\n",
    "\n",
    "# Call the removeElement method and pass the list and value\n",
    "l1 = solution.removeElement([3, 6, 4, 5, 3, 6, 7, 3], 3)\n",
    "# print(l1)  # Output the new length of the modified list\n",
    "\n",
    "# # Optional: Print the modified list up to the new length\n",
    "# nums = [3, 6, 4, 5, 3, 6, 7, 3]\n",
    "# new_length = solution.removeElement(nums, 3)\n",
    "# print(nums[:new_length])  # Output the modified list up to the new length\n"
   ]
  },
  {
   "cell_type": "code",
   "execution_count": null,
   "metadata": {},
   "outputs": [],
   "source": [
    "def k1(l1,l2):\n",
    "    if l2==\"\":\n",
    "        return 0\n",
    "    for i in range(len(l1)-1):\n",
    "        if l1[i:i+len(l2)] == l2:\n",
    "            return i\n",
    "    return -1\n",
    "\n",
    "\n",
    "k1(\"abc\",\"c\")"
   ]
  },
  {
   "cell_type": "code",
   "execution_count": null,
   "metadata": {},
   "outputs": [],
   "source": [
    "def l11(a1,a2):\n",
    "    L,R = 0,len(a1)-1\n",
    "\n",
    "    while L<R:\n",
    "        mid = (L+R)//2\n",
    "\n",
    "        if a1[mid] == a2:\n",
    "            return mid\n",
    "        elif a1[mid] < a2:\n",
    "            L = mid+1\n",
    "        else:\n",
    "            R = mid-1\n",
    "\n",
    "    return L\n",
    "\n",
    "\n",
    "l11([i for i in range(20) if i!= 5],19\n",
    "    )\n"
   ]
  },
  {
   "cell_type": "code",
   "execution_count": null,
   "metadata": {},
   "outputs": [],
   "source": [
    "s =\"   fly me   to   the moon  \"\n",
    "print(s.strip().split(\" \"))"
   ]
  },
  {
   "cell_type": "code",
   "execution_count": null,
   "metadata": {},
   "outputs": [],
   "source": [
    "s = \"MCMXCIV\"\n",
    "# print(s.split(\"\"))\n",
    "dic = {'I':1,'V':5,'X':10,'L':50,'C':100,'D':500,'M':1000}\n",
    "jis = 0\n",
    "for i in range(len(s)):\n",
    "    if i < len(s)-1 and dic[s[i]] < dic[s[i+1]]:\n",
    "        jis += (dic[s[i+1]] - dic[s[i]])\n",
    "        i += 2  \n",
    "    else:\n",
    "        jis += dic[s[i]]\n",
    "        \n",
    "print( jis)"
   ]
  },
  {
   "cell_type": "code",
   "execution_count": null,
   "metadata": {},
   "outputs": [],
   "source": [
    "s = \"MCMXCIV\"\n",
    "dic = {'I': 1, 'V': 5, 'X': 10, 'L': 50, 'C': 100, 'D': 500, 'M': 1000}\n",
    "jis = 0\n",
    "i = 0\n",
    "\n",
    "while i < len(s):\n",
    "    if i < len(s) - 1 and dic[s[i]] < dic[s[i + 1]]:\n",
    "        jis += dic[s[i + 1]] - dic[s[i]]\n",
    "        i += 2  # Skip the next character\n",
    "    else:\n",
    "        jis += dic[s[i]]\n",
    "        i += 1\n",
    "\n",
    "print(jis)\n"
   ]
  },
  {
   "cell_type": "code",
   "execution_count": null,
   "metadata": {},
   "outputs": [],
   "source": [
    "strs = [\"flower\",\"flow\",\"flight\"]\n",
    "mi = min(strs, key = len)\n",
    "l1 = []\n",
    "\n",
    "for i in strs:\n",
    "    if i.startswith(mi):\n",
    "        "
   ]
  },
  {
   "cell_type": "code",
   "execution_count": null,
   "metadata": {},
   "outputs": [],
   "source": [
    "strs = [\"flower\",\"flow\",\"flight\"]\n",
    "mi = min(strs, key = len)\n",
    "\n",
    "if not strs:\n",
    "    print(0)\n",
    "else:\n",
    "    mi = min(strs, key=len)\n",
    "    lop = \"\"\n",
    "\n",
    "    for i in range(len(mi)):\n",
    "        char = mi[i]\n",
    "        if all(s[i] == char for s in strs):\n",
    "            lop += char\n",
    "        else:\n",
    "            break\n",
    "    print(len(lop))"
   ]
  },
  {
   "cell_type": "code",
   "execution_count": null,
   "metadata": {},
   "outputs": [],
   "source": [
    "# This is the very important question based on the stack Data structure in leetcode !\n",
    "def k1(s):\n",
    "    st =[]\n",
    "    com = {'}':'{',']':'[',')':'('}\n",
    "    for i in s:\n",
    "        if i not in com:\n",
    "            st.append(i)\n",
    "        else:\n",
    "            if len(st) != 0 and st[-1] == com[i]:\n",
    "                st.pop()\n",
    "            else:\n",
    "                return False\n",
    "\n",
    "    return True if not st else False\n",
    "\n",
    "\n",
    "\n",
    "oo = k1(\"{[}]\")\n",
    "print(oo)"
   ]
  },
  {
   "cell_type": "code",
   "execution_count": null,
   "metadata": {},
   "outputs": [],
   "source": [
    "l1 = 4.90\n",
    "l11 = str(l1).split(\".\")\n",
    "print(l11)"
   ]
  },
  {
   "cell_type": "code",
   "execution_count": null,
   "metadata": {},
   "outputs": [],
   "source": [
    "n =9\n",
    "k1 =[0]*n\n",
    "id =1\n",
    "for i in range(len(k1)-1,-1,-1):\n",
    "    k1[i]= k1[i] + id\n",
    "print(k1)\n"
   ]
  },
  {
   "cell_type": "code",
   "execution_count": null,
   "metadata": {},
   "outputs": [],
   "source": [
    "def fibonacci_generator(n):\n",
    "    a, b = 0, 1\n",
    "    for _ in range(n):\n",
    "        yield a\n",
    "        a, b = b, a + b\n",
    "\n",
    "# Example usage\n",
    "n = 10\n",
    "print(f\"Fibonacci series up to {n} terms: {list(fibonacci_generator(n))}\")\n"
   ]
  },
  {
   "cell_type": "code",
   "execution_count": null,
   "metadata": {},
   "outputs": [],
   "source": [
    "h1 = [0, 1, 1, 2, 3, 5, 8, 13, 21, 34]\n",
    "print(sum(h1[-1:-3:-1]))\n",
    "h1.pop(0)\n",
    "print(h1)"
   ]
  },
  {
   "cell_type": "code",
   "execution_count": null,
   "metadata": {},
   "outputs": [],
   "source": [
    "o1 = \"A man, a plan, a canal: Panama\"\n",
    "print(o1.lower())\n",
    "k11 = \"\"\n",
    "for char in o1.lower():\n",
    "    if 97 <= int(ord(i)) <=122:\n",
    "        k11  += char\n",
    "print(k11 == k11[::-1])"
   ]
  },
  {
   "cell_type": "code",
   "execution_count": null,
   "metadata": {},
   "outputs": [],
   "source": [
    "from string import ascii_lowercase\n",
    "for i in ascii_lowercase:\n",
    "    print(ord(i))\n",
    "    # we can use the i.isalnum() for only alphabets and the number ! for the loop condition !\n"
   ]
  },
  {
   "cell_type": "code",
   "execution_count": 28,
   "metadata": {},
   "outputs": [
    {
     "name": "stdout",
     "output_type": "stream",
     "text": [
      "[4]\n"
     ]
    }
   ],
   "source": [
    "nums = [4,1,2,1,2]\n",
    "k1= []\n",
    "for i in nums:\n",
    "    if i in k1:\n",
    "        k1.remove(i)\n",
    "    else:\n",
    "        k1.append(i)\n",
    "print(k1)"
   ]
  },
  {
   "cell_type": "code",
   "execution_count": 29,
   "metadata": {},
   "outputs": [
    {
     "name": "stdout",
     "output_type": "stream",
     "text": [
      "4\n"
     ]
    }
   ],
   "source": [
    "nums = [4,1,2,1,2]\n",
    "for num in nums:\n",
    "    if nums.count(num) == 1:\n",
    "        print(num)"
   ]
  },
  {
   "cell_type": "code",
   "execution_count": 37,
   "metadata": {},
   "outputs": [
    {
     "name": "stdout",
     "output_type": "stream",
     "text": [
      "-321\n"
     ]
    }
   ],
   "source": [
    "ii = -123\n",
    "l1 = -1 if ii< 0 else 1\n",
    "k2 = l1*ii\n",
    "k3 = str(k2)[::-1]\n",
    "\n",
    "print(int(k3) * l1)\n"
   ]
  },
  {
   "cell_type": "code",
   "execution_count": 49,
   "metadata": {},
   "outputs": [
    {
     "name": "stdout",
     "output_type": "stream",
     "text": [
      "{4: 3, 6: 1, 3: 2, 7: 3, 2: 1}\n",
      "{2: 1, 3: 2, 4: 3, 6: 1, 7: 3}\n"
     ]
    }
   ],
   "source": [
    "target = [4,6,3,4,7,2,4,7,3,7]\n",
    "\n",
    "mt = {c: target.count(c) for c in target}\n",
    "print(mt)\n",
    "# sorting the dict !\n",
    "\n",
    "k2 = dict(sorted(mt.items()))\n",
    "print(k2)"
   ]
  },
  {
   "cell_type": "code",
   "execution_count": null,
   "metadata": {},
   "outputs": [],
   "source": [
    "https://youtube.com/shorts/3f3TlTlW_48?si=mivmXzUTV-qdxTfe"
   ]
  }
 ],
 "metadata": {
  "kernelspec": {
   "display_name": "Python 3",
   "language": "python",
   "name": "python3"
  },
  "language_info": {
   "codemirror_mode": {
    "name": "ipython",
    "version": 3
   },
   "file_extension": ".py",
   "mimetype": "text/x-python",
   "name": "python",
   "nbconvert_exporter": "python",
   "pygments_lexer": "ipython3",
   "version": "3.11.4"
  }
 },
 "nbformat": 4,
 "nbformat_minor": 2
}
